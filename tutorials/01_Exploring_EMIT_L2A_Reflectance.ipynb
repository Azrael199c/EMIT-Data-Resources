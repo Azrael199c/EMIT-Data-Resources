{
 "cells": [
  {
   "attachments": {},
   "cell_type": "markdown",
   "metadata": {},
   "source": [
    "# 1. Exploring L2A Reflectance\n",
    "\n",
    "**Summary**  \n",
    "\n",
    "In this notebook we will open a Level 2A (L2A) Reflectance product file (netcdf) from Earth Surface Minteral Dust Source Investigation (EMIT). We will inspect the structure and plot the spectra of individual pixels and spatial coverage of a single scene. Finally, we will take advantage of the `holoviews streams` to build an interactive plot.\n",
    "\n",
    "**Background**\n",
    "\n",
    "The EMIT instrument is an imaging spectrometer that measures light in visible and infrared wavelengths. These measurements display unique spectral signatures that correspond to the composition on the Earth's surface. The EMIT mission focuses specifically on mapping the composition of minerals to better understand the effects of mineral dust throughout the Earth system and human populations now and in the future. More details about EMIT and its associated products can be found in the **README.md** and on the [EMIT website](https://earth.jpl.nasa.gov/emit/).\n",
    "\n",
    "The L2A Reflectance Product contains estimated surface reflectance. Surface reflectance is the fraction of incoming solar radiation reflected Earth's surface. Materials reflect proportions of radiation differently based upon their chemical composition.  This means that reflectance information can be used to determine the composition of a target. In this guide you will learn how to plot a band from the L2A reflectance spatially and look at the spectral curve associated with individual pixels.\n",
    "\n",
    "**Requirements**  \n",
    " - Set up Python Environment - See **setup_instructions.md** in the `/setup/` folder \n",
    " - Download the required EMIT data - See **setup_instructions.md** in the `/setup/` folder   \n",
    "\n",
    "**Learning Objectives**  \n",
    "- How to open an EMIT `.nc` file as an `xarray.Dataset`\n",
    "- Apply the Geometry Lookup Table (GLT) to orthocorrect the image.\n",
    "- How to plot the spectra of pixels\n",
    "- How to plot specific bands as images\n",
    "\n",
    "**Tutorial Outline**  \n",
    "\n",
    "1.1 Setup  \n",
    "1.2 Opening The Data  \n",
    "1.3 Plotting Data - Non-Orthorectified  \n",
    "1.4 Orthorectification  \n",
    "1.5 Plotting Data - Orthorectified\n",
    "1.6 Saving Orthorectified Data  \n",
    "1.7 Interactive Spatial and Spectral Plots  \n"
   ]
  },
  {
   "attachments": {},
   "cell_type": "markdown",
   "metadata": {},
   "source": [
    "---\n",
    "\n",
    "## 1.1 Setup\n",
    "\n",
    "Import the required Python libraries."
   ]
  },
  {
   "cell_type": "code",
   "execution_count": null,
   "metadata": {},
   "outputs": [],
   "source": [
    "from osgeo import gdal\n",
    "import numpy as np\n",
    "import math\n",
    "import xarray as xr\n",
    "import geoviews as gv\n",
    "import holoviews as hv\n",
    "import hvplot.xarray\n",
    "import netCDF4 as nc"
   ]
  },
  {
   "attachments": {},
   "cell_type": "markdown",
   "metadata": {},
   "source": [
    "Download the L2A Reflectance EMIT scene located [here](https://data.lpdaac.earthdatacloud.nasa.gov/lp-prod-protected/EMITL2ARFL.001/EMIT_L2A_RFL_001_20220903T163129_2224611_012/EMIT_L2A_RFL_001_20220903T163129_2224611_012.nc) to your `/data/` folder, then define an object representing the file path, like below.\n"
   ]
  },
  {
   "cell_type": "code",
   "execution_count": null,
   "metadata": {},
   "outputs": [],
   "source": [
    "fp = '../data/EMIT_L2A_RFL_001_20220903T163129_2224611_012.nc'"
   ]
  },
  {
   "attachments": {},
   "cell_type": "markdown",
   "metadata": {},
   "source": [
    "---\n",
    "\n",
    "## 1.2 Opening EMIT Data  \n",
    "\n",
    "EMIT Data is distributed in a hierarchical NetCDF4 (.nc) format. Inside the netCDF4 file there are 3 groups:\n",
    "\n",
    "1. The root group containing reflectance values accross the downtrack, crosstrack, and bands dimensions.  \n",
    "2. The `sensor_band_parameters`  group containing the wavelength of each band center, and the full-width half maximum (FWHM) or bandwidth at half of the maximum amplitude.  \n",
    "3. The `location` group containing latitude and longitude values of each pixel as well as a geometric lookup table (GLT). The GLT is an orthorectified image that provides relative downtrack and crosstrack reference locations from the raw scene to facilitate fast projection of the dataset.  \n",
    "\n",
    "To access the `.nc` file we will use the `xarray` library. `xarray` only support non-hierarchical (flat) datasets, meaning that when loading a NetCDF into an `xarray.Dataset`, by default only the root group is added, the others have to be manually added. Since `xarray` does not recognize these other groups, the keys cannot be listed using that library. If we need to check what keys are present we can use the `netcdf4` library. In the case of EMIT data, the `reflectance` group is the root group, and contains reflectance values and some metadata. As mentioned above, the other groups are `sensor_band_parameters` and `location`. Assuming we don't know the groups present, lets first explore the heirarchical structure of the EMIT data using the `netcdf4` library."
   ]
  },
  {
   "cell_type": "code",
   "execution_count": null,
   "metadata": {},
   "outputs": [],
   "source": [
    "ds = nc.Dataset(fp)\n",
    "ds"
   ]
  },
  {
   "attachments": {},
   "cell_type": "markdown",
   "metadata": {},
   "source": [
    "When inspecting the `ds` object, we can see the metadata, dimensions, variables, and groups. To specifically view the groups, append `.groups.keys()` to the object."
   ]
  },
  {
   "cell_type": "code",
   "execution_count": null,
   "metadata": {},
   "outputs": [],
   "source": [
    "ds.groups.keys()"
   ]
  },
  {
   "attachments": {},
   "cell_type": "markdown",
   "metadata": {},
   "source": [
    "Now read the root reflectance group as an `xarray.Dataset` and preview it."
   ]
  },
  {
   "cell_type": "code",
   "execution_count": null,
   "metadata": {},
   "outputs": [],
   "source": [
    "refl = xr.open_dataset(fp)\n",
    "refl"
   ]
  },
  {
   "cell_type": "markdown",
   "metadata": {},
   "source": [
    "We can see that the information read in only contains the root variable (reflectance) and attributes metadata, not those from the groups we previously listed. Using those group names we can read the other groups into their own `xarray` dataset object. \n",
    "\n",
    "Read in the `sensor_band_parameters` group as an `xarray` dataset and preview it."
   ]
  },
  {
   "cell_type": "code",
   "execution_count": null,
   "metadata": {},
   "outputs": [],
   "source": [
    "wvl = xr.open_dataset(fp,group='sensor_band_parameters')\n",
    "wvl"
   ]
  },
  {
   "attachments": {},
   "cell_type": "markdown",
   "metadata": {},
   "source": [
    "Now we can merge the two `xarray` datasets into a single dataset."
   ]
  },
  {
   "cell_type": "code",
   "execution_count": null,
   "metadata": {},
   "outputs": [],
   "source": [
    "ds = xr.merge([refl,wvl])\n",
    "ds"
   ]
  },
  {
   "cell_type": "markdown",
   "metadata": {},
   "source": [
    "Since these datasets are large, we can go ahead and delete objects we won't be using to conserve memory."
   ]
  },
  {
   "cell_type": "code",
   "execution_count": null,
   "metadata": {},
   "outputs": [],
   "source": [
    "del refl\n",
    "del wvl"
   ]
  },
  {
   "attachments": {},
   "cell_type": "markdown",
   "metadata": {},
   "source": [
    "---\n",
    "\n",
    "## 1.3 Plotting Data - Non-Orthorectified\n",
    "\n",
    "Pick a random downtrack and crosstrack location. Here we chose 660, 370 (downtrack,crosstrack). Next use the `isel()` function from `xarray` and the `hvplot.line()` functions to first select the spatial position and then plot a line showing the reflectance at that location. "
   ]
  },
  {
   "cell_type": "code",
   "execution_count": null,
   "metadata": {},
   "outputs": [],
   "source": [
    "ds['reflectance'].isel(downtrack=660,crosstrack=370).hvplot.line(y='reflectance',x='bands', color='black')"
   ]
  },
  {
   "cell_type": "markdown",
   "metadata": {},
   "source": [
    "We can see some flat regions in the spectral curve around bands 127 - 141 and 187 - 212. These are where water absoption features in these regions were removed. Typically this data is noisy due to the moisture present in the atmosphere; therefore, these spectral regions offer little information about targets and can be excluded from calculations. \n",
    "\n",
    "Although they have been reassigned a value of -0.01, we can mask them to improve visualization, by using the `where()` function to select regions of the dataset where the reflectance value is not equal to -0.01."
   ]
  },
  {
   "cell_type": "code",
   "execution_count": null,
   "metadata": {},
   "outputs": [],
   "source": [
    "ds['reflectance'] = ds['reflectance'].where(ds['reflectance']!=-0.01)\n",
    "ds"
   ]
  },
  {
   "cell_type": "markdown",
   "metadata": {},
   "source": [
    "Plot the filtered reflectance values using the same downtrack and crosstrack position as above."
   ]
  },
  {
   "cell_type": "code",
   "execution_count": null,
   "metadata": {},
   "outputs": [],
   "source": [
    "ds['reflectance'].isel(downtrack=660,crosstrack=370).hvplot.line(y='reflectance',x='wavelengths', color='black')"
   ]
  },
  {
   "cell_type": "markdown",
   "metadata": {},
   "source": [
    "Without the noisy data we can better interpret the spectral curve and `hvplot` will do a better job automatically scaling our axes."
   ]
  },
  {
   "attachments": {},
   "cell_type": "markdown",
   "metadata": {},
   "source": [
    "We can also plot the data spatially. Find the band nearest the 850nm wavelength in the NIR, then plot the data spatially using the `isel()` function to select only that band and using `hvplot.image()` to view the reflectance at 850nm of each pixel across the acquired region."
   ]
  },
  {
   "cell_type": "code",
   "execution_count": null,
   "metadata": {},
   "outputs": [],
   "source": [
    "b850 = np.nanargmin(abs(ds['wavelengths'].values-850)) # Find band nearest to value of 650 nm (red)\n",
    "ds.isel(bands=b850).hvplot.image(cmap='viridis', aspect = 'equal', rasterize=True) \n"
   ]
  },
  {
   "attachments": {},
   "cell_type": "markdown",
   "metadata": {},
   "source": [
    "As previously mentioned a Geometry Lookup Table (GLT) is included in the `location` group of the netCDF4 file. Applying the GLT will orthorectify the image and give us Latitude and Longitude positional information.\n",
    "\n",
    "---\n",
    "\n",
    "## 1.4 Orthorectification\n",
    "\n",
    "Before orthocorrecting, examine the `location` group from the dataset by reading it into `xarray`.\n"
   ]
  },
  {
   "cell_type": "code",
   "execution_count": null,
   "metadata": {},
   "outputs": [],
   "source": [
    "loc = xr.open_dataset(fp,group='location')\n",
    "loc"
   ]
  },
  {
   "cell_type": "code",
   "execution_count": null,
   "metadata": {},
   "outputs": [],
   "source": [
    "del loc"
   ]
  },
  {
   "attachments": {},
   "cell_type": "markdown",
   "metadata": {},
   "source": [
    "We can see that each downtrack and crosstrack position has a latitude, longitude, and elevation, and the ortho_x and ortho_y data make up glt_x and glt_y arrays with a different shape. These arrays contain crosstrack and downtrack index values to quickly reproject the data. We will use these indexes to build an array of 2009x2353x285 (lat,lon,bands), filling it with the data from the EMIT dataset using the included `emit_tools` Python module. `emit_tools` contains some helpful functions for working with EMIT data using `xarray`.\n",
    "\n",
    "Import the `emit_tools` module and call use the help function to see how it can be used.\n",
    "\n",
    "> Note: This function currently works with L1B Radiance and L2A Reflectance Data.\n"
   ]
  },
  {
   "cell_type": "code",
   "execution_count": null,
   "metadata": {},
   "outputs": [],
   "source": [
    "import sys\n",
    "sys.path.append('../modules/')\n",
    "from emit_tools import emit_xarray\n",
    "help(emit_xarray)"
   ]
  },
  {
   "attachments": {},
   "cell_type": "markdown",
   "metadata": {},
   "source": [
    "We can see that the `emit_xarray` function will automatically apply the GLT to orthorectify the data unless `ortho  = False`. The function will also apply masks if desired during construction of the output `xarray.Dataset`. \n",
    "\n",
    "Use the `emit_xarray` function to read in and orthorectify the L2A reflectance data. \n",
    "\n",
    ">**For a detailed walkthrough of the orthorectification process using the GLT see section 2 of the How_to_Orthorectify.ipynb in the how-tos folder.**"
   ]
  },
  {
   "cell_type": "code",
   "execution_count": null,
   "metadata": {},
   "outputs": [],
   "source": [
    "ds_geo = emit_xarray(fp, ortho=True)\n",
    "ds_geo"
   ]
  },
  {
   "attachments": {},
   "cell_type": "markdown",
   "metadata": {},
   "source": [
    "---\n",
    "\n",
    "## 1.5 Plotting Data - Orthorectified\n",
    "\n",
    "Now that the data has been orthorectified, plot the georeferenced dataset using the same single wavelength (850nm) as above. We can use the `aspect = 'equal'` option to preserve the square pixel dimensions. The `rasterize = True` will help save memory and reduces the size of this notebook. For higher quality outputs, this can be omitted."
   ]
  },
  {
   "cell_type": "code",
   "execution_count": null,
   "metadata": {},
   "outputs": [],
   "source": [
    "ds_geo.isel(bands=b850).hvplot.image(cmap='viridis', frame_width=500, aspect = 'equal', rasterize=True)"
   ]
  },
  {
   "attachments": {},
   "cell_type": "markdown",
   "metadata": {},
   "source": [
    "We an also plot the data against an imagery tile using the `geo=True` and `tiles=` parameters instead of . Any tile source available in `geoviews` should work here. This will change the  axis names, but that can be fixed by adding them manually in the options, like below."
   ]
  },
  {
   "cell_type": "code",
   "execution_count": null,
   "metadata": {},
   "outputs": [],
   "source": [
    "ds_geo.isel(bands=b850).hvplot.image(cmap='viridis', frame_width=500, geo=True, tiles='EsriImagery',rasterize=True).opts(\n",
    "    xlabel=f'{ds_geo.longitude.long_name} ({ds_geo.longitude.units})', ylabel=f'{ds_geo.latitude.long_name} ({ds_geo.latitude.units})')"
   ]
  },
  {
   "attachments": {},
   "cell_type": "markdown",
   "metadata": {},
   "source": [
    "We can see that the orthorectification step rotated the image and placed it on a Lat/Lon grid. Now that we have a better idea of what the target area looks like, we can also plot the spectra using the georeferenced data. First, filter out the water absorption bands using the `good_refl()` function we wrote in section 1.3."
   ]
  },
  {
   "cell_type": "code",
   "execution_count": null,
   "metadata": {},
   "outputs": [],
   "source": [
    "ds_geo = ds_geo.where(ds_geo['reflectance']!=-0.01)"
   ]
  },
  {
   "cell_type": "markdown",
   "metadata": {},
   "source": [
    "Now, plot the spectra at the Lat/Lon coordinates provided below."
   ]
  },
  {
   "cell_type": "code",
   "execution_count": null,
   "metadata": {},
   "outputs": [],
   "source": [
    "point = ds_geo.sel(longitude=-61.833,latitude=-39.710,method='nearest')\n",
    "point.hvplot.line(y='reflectance',x='wavelengths', color='black', frame_width=400).opts(\n",
    "    title = f'Latitude = {point.latitude.values.round(3)}, Longitude = {point.longitude.values.round(3)}')"
   ]
  },
  {
   "attachments": {},
   "cell_type": "markdown",
   "metadata": {},
   "source": [
    "---\n",
    "\n",
    "## 1.6 Writing an Orthorectified Output\n",
    "\n",
    "At this point, the `ds_geo` orthorectified EMIT data can also be written as a flattened netCDF4 output that can be read using the `xarray.open_dataset` function, if desired. "
   ]
  },
  {
   "cell_type": "code",
   "execution_count": null,
   "metadata": {},
   "outputs": [],
   "source": [
    "ds_geo.to_netcdf('../data/geo_ds_out.nc')\n",
    "# Example for Opening \n",
    "# ds = xr.open_dataset('../data/geo_ds_out.nc')"
   ]
  },
  {
   "attachments": {},
   "cell_type": "markdown",
   "metadata": {},
   "source": [
    "---\n",
    "\n",
    "## 1.7 Interactive Spatial and Spectral Plots\n",
    "\n",
    "Combining the Spatial and Spectral information into a single visualization can be a powerful tool for exploring and inspecting data quality. Using the Streams function of Holoviews we can link a spatial map to a plot of spectra.\n",
    "\n",
    "We could plot a single band image as we previously have, but using an RGB image may help infer what targets we're examining. Build an RGB image following the steps below.\n",
    "\n",
    "Select bands to represent red, green, and blue by finding the nearest to a chosen wavelength."
   ]
  },
  {
   "cell_type": "code",
   "execution_count": null,
   "metadata": {},
   "outputs": [],
   "source": [
    "# Find Nearest Bands\n",
    "b650 = np.nanargmin(abs(ds_geo['wavelengths'].values-650)) # Find band nearest to value of 650 nm (red)\n",
    "b560 = np.nanargmin(abs(ds_geo['wavelengths'].values-560)) # Find band nearest to value of 560 nm (green)\n",
    "b470 = np.nanargmin(abs(ds_geo['wavelengths'].values-470)) # Find band nearest to value of 470 nm (blue)"
   ]
  },
  {
   "cell_type": "markdown",
   "metadata": {},
   "source": [
    "Next, write a function to build an array from the chosen bands and scale the values using a gamma correction. Without applying this scaling the majority of the image would be very dark, with the reflectance data being skewed by the few pixels with very high reflectance. \n",
    "> Note: This has no impact on analysis or data, just visualizing the RGB map."
   ]
  },
  {
   "cell_type": "code",
   "execution_count": null,
   "metadata": {},
   "outputs": [],
   "source": [
    "def gamma_adjust(ds,band):\n",
    "    # Define Array\n",
    "    array = ds['reflectance'].isel(bands=band).values\n",
    "    # Rescale Values using gamma to adjust brightness\n",
    "    gamma = math.log(0.2)/math.log(np.nanmean(array)) # Create exponent for gamma scaling - can be adjusted by changing 0.2 \n",
    "    scaled = np.power(array,gamma).clip(0,1) # Apply scaling and clip to 0-1 range\n",
    "    scaled = np.nan_to_num(scaled, nan = 1) #Assign NA's to 1 so they appear white in plots\n",
    "    return scaled"
   ]
  },
  {
   "cell_type": "markdown",
   "metadata": {},
   "source": [
    "Now apply this function to each of the selected bands, stack them, build the arrays of coordinates (Lat, Lon, Bands) needed to create an `xarray.Dataset`, then build the dataset."
   ]
  },
  {
   "cell_type": "code",
   "execution_count": null,
   "metadata": {},
   "outputs": [],
   "source": [
    "# Scale the Bands\n",
    "r = gamma_adjust(ds_geo,b650)\n",
    "g = gamma_adjust(ds_geo,b560)\n",
    "b = gamma_adjust(ds_geo,b470)\n",
    "# Stack Bands and make an index\n",
    "rgb = np.stack([r,g,b]) # Stack r,g,b arrays and assign NA's to 1 so they appear white in plots\n",
    "bds = np.array([0,1,2])\n",
    "# Pull lat and lon values from geocorrected arrays\n",
    "x = ds_geo['longitude'].values\n",
    "y = ds_geo['latitude'].values\n",
    "# Create new rgb xarray data array.\n",
    "data_vars = {'RGB':(['bands','latitude','longitude'], rgb)} \n",
    "coords = {'bands':(['bands'],bds), 'latitude':(['latitude'],y), 'longitude':(['longitude'],x)}\n",
    "attrs = ds_geo.attrs\n",
    "ds_rgb = xr.Dataset(data_vars=data_vars, coords=coords, attrs=attrs)\n",
    "ds_rgb.coords['latitude'].attrs = ds_geo['longitude'].attrs\n",
    "ds_rgb.coords['longitude'].attrs = ds_geo['latitude'].attrs\n",
    "ds_rgb"
   ]
  },
  {
   "cell_type": "markdown",
   "metadata": {},
   "source": [
    "Lastly, use the RGB data array to build a map object with the `hvplot.rgb()` function from `holoviews`."
   ]
  },
  {
   "cell_type": "code",
   "execution_count": null,
   "metadata": {},
   "outputs": [],
   "source": [
    "# Define RGB Image\n",
    "map = ds_rgb.hvplot.rgb(x='longitude', y='latitude', bands='bands', aspect = 'equal', frame_width=400)"
   ]
  },
  {
   "cell_type": "markdown",
   "metadata": {},
   "source": [
    "To visualize the spectral and spatial data side-by-side, we use the `pointerXY` and `Tap` features of the `streams` functionality from the `holoviews` library. First, define objects resulting from the stream of the pointer x and y position on a spatial plot, then define objects resulting from a clicked x and y position on a spatial plot. \n",
    "\n",
    "Next, define a function to plot the spectra based on these two sets of x and y coordinates on the map. This will allow us to return spectra from a position we clicked on the image, and spectra where the mouse is currently hovering, allowing comparison of pixel reflectance values. "
   ]
  },
  {
   "cell_type": "code",
   "execution_count": null,
   "metadata": {
    "scrolled": true
   },
   "outputs": [],
   "source": [
    "# Stream of X and Y positional data\n",
    "posxy = hv.streams.PointerXY(source=map, x=-61.833, y=-39.710) \n",
    "clickxy = hv.streams.Tap(source=map, x=-61.833, y=-39.710) \n",
    "\n",
    "# Function to build a new spectral plot based on mouse hover positional information retrieved from the RGB image using our full reflectance dataset\n",
    "def point_spectra(x,y):\n",
    "    return ds_geo.sel(longitude=x,latitude=y,method='nearest').hvplot.line(y='reflectance',x='wavelengths',\n",
    "                                                                           color='#1b9e77', frame_width=400)\n",
    "# Function to build spectral plot of clicked location to show on hover stream plot\n",
    "def click_spectra(x,y):\n",
    "    return ds_geo.sel(longitude=x,latitude=y,method='nearest').hvplot.line(y='reflectance',x='wavelengths',\n",
    "                                                                           color='#d95f02', frame_width=400)\n",
    "# Define the Dynamic Maps\n",
    "point_dmap = hv.DynamicMap(point_spectra, streams=[posxy])\n",
    "click_dmap = hv.DynamicMap(click_spectra, streams=[clickxy])\n",
    "\n",
    "# Plot the Map and Dynamic Map side by side\n",
    "(map + click_dmap*point_dmap)"
   ]
  },
  {
   "attachments": {},
   "cell_type": "markdown",
   "metadata": {},
   "source": [
    "---\n",
    "\n",
    "## Contact Info:  \n",
    "\n",
    "Email: LPDAAC@usgs.gov  \n",
    "Voice: +1-866-573-3222  \n",
    "Organization: Land Processes Distributed Active Archive Center (LP DAAC)¹  \n",
    "Website: <https://lpdaac.usgs.gov/>  \n",
    "Date last modified: 01-19-2022  \n",
    "\n",
    "¹Work performed under USGS contract G15PD00467 for NASA contract NNG14HH33I.  "
   ]
  }
 ],
 "metadata": {
  "kernelspec": {
   "display_name": "Python 3 (ipykernel)",
   "language": "python",
   "name": "python3"
  },
  "language_info": {
   "codemirror_mode": {
    "name": "ipython",
    "version": 3
   },
   "file_extension": ".py",
   "mimetype": "text/x-python",
   "name": "python",
   "nbconvert_exporter": "python",
   "pygments_lexer": "ipython3",
   "version": "3.9.15 | packaged by conda-forge | (main, Nov 22 2022, 08:41:22) [MSC v.1929 64 bit (AMD64)]"
  },
  "vscode": {
   "interpreter": {
    "hash": "3292b2aceff7d39327a7519422d4180a7c9b133202090f26e797e3dd8f2c7877"
   }
  }
 },
 "nbformat": 4,
 "nbformat_minor": 4
}
